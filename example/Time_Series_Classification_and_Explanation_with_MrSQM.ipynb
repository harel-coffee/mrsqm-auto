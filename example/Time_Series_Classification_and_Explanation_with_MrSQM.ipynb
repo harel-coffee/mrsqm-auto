{
 "cells": [
  {
   "cell_type": "code",
   "execution_count": 1,
   "id": "auburn-vienna",
   "metadata": {},
   "outputs": [],
   "source": [
    "import mrsqm\n",
    "import numpy as np\n",
    "import pandas as pd\n",
    "from sklearn import metrics\n",
    "from scipy.interpolate import interp1d\n",
    "import matplotlib.pyplot as plt\n",
    "import timeit"
   ]
  },
  {
   "cell_type": "code",
   "execution_count": 2,
   "id": "surrounded-judgment",
   "metadata": {},
   "outputs": [],
   "source": [
    "# code to read arff data\n",
    "# Source: https://github.com/alan-turing-institute/sktime/blob/main/sktime/utils/data_io.py\n",
    "\n",
    "def load_from_arff_to_dataframe(\n",
    "\n",
    "    full_file_path_and_name,\n",
    "    has_class_labels=True,\n",
    "    return_separate_X_and_y=True,\n",
    "    replace_missing_vals_with=\"NaN\",\n",
    "):\n",
    "    \"\"\"Load data from a .ts file into a Pandas DataFrame.\n",
    "    Parameters\n",
    "    ----------\n",
    "    full_file_path_and_name: str\n",
    "        The full pathname of the .ts file to read.\n",
    "    has_class_labels: bool\n",
    "        true then line contains separated strings and class value contains\n",
    "        list of separated strings, check for 'return_separate_X_and_y'\n",
    "        false otherwise.\n",
    "    return_separate_X_and_y: bool\n",
    "        true then X and Y values should be returned as separate Data Frames (\n",
    "        X) and a numpy array (y), false otherwise.\n",
    "        This is only relevant for data.\n",
    "    replace_missing_vals_with: str\n",
    "       The value that missing values in the text file should be replaced\n",
    "       with prior to parsing.\n",
    "    Returns\n",
    "    -------\n",
    "    DataFrame, ndarray\n",
    "        If return_separate_X_and_y then a tuple containing a DataFrame and a\n",
    "        numpy array containing the relevant time-series and corresponding\n",
    "        class values.\n",
    "    DataFrame\n",
    "        If not return_separate_X_and_y then a single DataFrame containing\n",
    "        all time-series and (if relevant) a column \"class_vals\" the\n",
    "        associated class values.\n",
    "    \"\"\"\n",
    "    \n",
    "    instance_list = []\n",
    "    class_val_list = []\n",
    "\n",
    "    data_started = False\n",
    "    is_multi_variate = False\n",
    "    is_first_case = True\n",
    "\n",
    "    # Parse the file\n",
    "    # print(full_file_path_and_name)\n",
    "    with open(full_file_path_and_name, \"r\", encoding=\"utf-8\") as f:\n",
    "        for line in f:\n",
    "\n",
    "            if line.strip():\n",
    "                if (\n",
    "                    is_multi_variate is False\n",
    "                    and \"@attribute\" in line.lower()\n",
    "                    and \"relational\" in line.lower()\n",
    "                ):\n",
    "                    is_multi_variate = True\n",
    "\n",
    "                if \"@data\" in line.lower():\n",
    "                    data_started = True\n",
    "                    continue\n",
    "\n",
    "                # if the 'data tag has been found, the header information\n",
    "                # has been cleared and now data can be loaded\n",
    "                if data_started:\n",
    "                    line = line.replace(\"?\", replace_missing_vals_with)\n",
    "\n",
    "                    if is_multi_variate:\n",
    "                        if has_class_labels:\n",
    "                            line, class_val = line.split(\"',\")\n",
    "                            class_val_list.append(class_val.strip())\n",
    "                        dimensions = line.split(\"\\\\n\")\n",
    "                        dimensions[0] = dimensions[0].replace(\"'\", \"\")\n",
    "\n",
    "                        if is_first_case:\n",
    "                            for _d in range(len(dimensions)):\n",
    "                                instance_list.append([])\n",
    "                            is_first_case = False\n",
    "\n",
    "                        for dim in range(len(dimensions)):\n",
    "                            instance_list[dim].append(\n",
    "                                pd.Series(\n",
    "                                    [float(i) for i in dimensions[dim].split(\",\")]\n",
    "                                )\n",
    "                            )\n",
    "\n",
    "                    else:\n",
    "                        if is_first_case:\n",
    "                            instance_list.append([])\n",
    "                            is_first_case = False\n",
    "\n",
    "                        line_parts = line.split(\",\")\n",
    "                        if has_class_labels:\n",
    "                            instance_list[0].append(\n",
    "                                pd.Series(\n",
    "                                    [\n",
    "                                        float(i)\n",
    "                                        for i in line_parts[: len(line_parts) - 1]\n",
    "                                    ]\n",
    "                                )\n",
    "                            )\n",
    "                            class_val_list.append(line_parts[-1].strip())\n",
    "                        else:\n",
    "                            instance_list[0].append(\n",
    "                                pd.Series(\n",
    "                                    [float(i) for i in line_parts[: len(line_parts)]]\n",
    "                                )\n",
    "                            )\n",
    "\n",
    "    x_data = pd.DataFrame(dtype=np.float32)\n",
    "    for dim in range(len(instance_list)):\n",
    "        x_data[\"dim_\" + str(dim)] = instance_list[dim]\n",
    "\n",
    "    if has_class_labels:\n",
    "        if return_separate_X_and_y:\n",
    "            return x_data, np.asarray(class_val_list)\n",
    "        else:\n",
    "            x_data[\"class_vals\"] = pd.Series(class_val_list)\n",
    "\n",
    "    return x_data\n",
    "\n",
    "# code to visualize saliency map\n",
    "# Source: https://github.com/mlgig/explanation4tsc/blob/master/3.%20Compare%20Metrics%20and%20Draw%20Figures.ipynb\n",
    "def plot_time_series_with_color(ts, weight, save = False):   \n",
    "    cas = weight\n",
    "    \n",
    "    def transform(X):\n",
    "        ma,mi = np.max(X), np.min(X)\n",
    "        X = (X - mi)/(ma-mi)\n",
    "        return X*100\n",
    "    cas = transform(cas)\n",
    "\n",
    "    max_length1, max_length2 = len(weight),10000 #\n",
    "    x1 = np.linspace(0,max_length1,num = max_length1)\n",
    "    x2 = np.linspace(0,max_length1,num = max_length2)\n",
    "    y1 = ts\n",
    "    f = interp1d(x1, y1)\n",
    "\n",
    "    fcas = interp1d(x1, cas)\n",
    "    cas = fcas(x2)\n",
    "\n",
    "    plt.figure(figsize = (5,3.5))\n",
    "    plt.scatter(x2,f(x2), c = cas, cmap = 'jet', marker='.', s= 1,vmin=0,vmax = 100)    \n",
    "    plt.colorbar()\n",
    "    if save: plt.savefig('imgout/SM_%s_%s_Class%d_idx%d.png' %(dataset, explanation_method, label[i],i))\n"
   ]
  },
  {
   "cell_type": "markdown",
   "id": "affected-schema",
   "metadata": {},
   "source": [
    "## Load dataset\n",
    "\n",
    "Dataset is loaded under *sktime* format\n",
    "https://www.sktime.org/en/stable/examples/loading_data.html#sktime_df_format"
   ]
  },
  {
   "cell_type": "code",
   "execution_count": 3,
   "id": "announced-demand",
   "metadata": {},
   "outputs": [
    {
     "name": "stdout",
     "output_type": "stream",
     "text": [
      "Coffee\n",
      "(28, 1) (28,)\n",
      "(28, 1) (28,)\n"
     ]
    }
   ],
   "source": [
    "dataset=\"Coffee\"\n",
    "X_train,y_train = load_from_arff_to_dataframe(\"data/\" + dataset + \"/\" + dataset + \"_TRAIN.arff\")\n",
    "X_test,y_test = load_from_arff_to_dataframe(\"data/\" + dataset + \"/\" + dataset + \"_TEST.arff\")\n",
    "\n",
    "print(dataset)\n",
    "print(X_train.shape, y_train.shape)\n",
    "print(X_test.shape, y_test.shape)"
   ]
  },
  {
   "cell_type": "markdown",
   "id": "right-tracy",
   "metadata": {},
   "source": [
    "## Train with MrSQMClassifier"
   ]
  },
  {
   "cell_type": "code",
   "execution_count": 4,
   "id": "contained-theorem",
   "metadata": {},
   "outputs": [],
   "source": [
    "clf = mrsqm.MrSQMClassifier().fit(X_train,y_train)"
   ]
  },
  {
   "cell_type": "markdown",
   "id": "willing-integer",
   "metadata": {},
   "source": [
    "## Test the model"
   ]
  },
  {
   "cell_type": "code",
   "execution_count": 6,
   "id": "split-species",
   "metadata": {},
   "outputs": [
    {
     "name": "stdout",
     "output_type": "stream",
     "text": [
      "0.9642857142857143\n"
     ]
    }
   ],
   "source": [
    "y_pred = clf.predict(X_test)\n",
    "print(metrics.accuracy_score(y_test, y_pred))"
   ]
  },
  {
   "cell_type": "markdown",
   "id": "statistical-building",
   "metadata": {},
   "source": [
    "## Explanation with saliency map\n",
    "A saliency map is basically a weight vector for each point in the time series corresponding to a class. Higher weight means the data point is more relevant to the class according to the model.\n",
    "\n",
    "*get_saliency_map* return a c X L array where c is the number of class and L is the length of the time series.\n",
    "\n",
    "It is important to note that in MrSQM saliency map only works if there is at least 1 SAX representation used for training."
   ]
  },
  {
   "cell_type": "code",
   "execution_count": 8,
   "id": "lyric-vinyl",
   "metadata": {},
   "outputs": [
    {
     "data": {
      "image/png": "[encoded data removed]",
      "text/plain": [
       "<Figure size 360x252 with 2 Axes>"
      ]
     },
     "metadata": {
      "needs_background": "light"
     },
     "output_type": "display_data"
    }
   ],
   "source": [
    "# This example visualise the saliency map of the 1st sample (class '0') in the Coffee dataset \n",
    "ts = X_train.iloc[0,0]\n",
    "weight = clf.get_saliency_map(ts)\n",
    "plot_time_series_with_color(ts, weight[0])"
   ]
  },
  {
   "cell_type": "markdown",
   "id": "crazy-brunei",
   "metadata": {},
   "source": [
    "## Control the number of SAX and SFA representations\n",
    "The parameters *nsax* and *nsfa* control the number of SAX and SFA representations produced from the raw data. The number of representations is *nsax* (or *nsfa*) x log(L) where L is the length of the time series.\n",
    "\n",
    "Adding more representations (bigger *nsax* or *nsfa*) can improve the accuracy but slow down the training."
   ]
  },
  {
   "cell_type": "code",
   "execution_count": 9,
   "id": "empty-violation",
   "metadata": {},
   "outputs": [
    {
     "name": "stdout",
     "output_type": "stream",
     "text": [
      "0.9642857142857143\n",
      "Time to train and predict (sec): 1.3400286519899964\n"
     ]
    }
   ],
   "source": [
    "starttime = timeit.default_timer()\n",
    "clf = mrsqm.MrSQMClassifier(nsax=1, nsfa=3).fit(X_train,y_train)\n",
    "y_pred = clf.predict(X_test)\n",
    "print(metrics.accuracy_score(y_test, y_pred))\n",
    "print(\"Time to train and predict (sec):\", timeit.default_timer() - starttime)"
   ]
  },
  {
   "cell_type": "code",
   "execution_count": 10,
   "id": "moving-tennessee",
   "metadata": {},
   "outputs": [
    {
     "name": "stdout",
     "output_type": "stream",
     "text": [
      "1.0\n",
      "Time to train and predict (sec): 0.46172626689076424\n"
     ]
    }
   ],
   "source": [
    "#parameters about training that the user can change\n",
    "'''     \n",
    "    Overview: MrSQM is an efficient time series classifier utilizing symbolic representations of time series. MrSQM implements four different feature selection strategies (R,S,RS,SR) that can quickly select subsequences from multiple symbolic representations of time series data.\n",
    "    def __init__(self, strat = 'RS', features_per_rep = 500, selection_per_rep = 2000, nsax = 1, nsfa = 0, custom_config=None, random_state = None, sfa_norm = True):\n",
    "\n",
    "    Parameters\n",
    "    ----------\n",
    "    \n",
    "    strat               : str, feature selection strategy, either 'R','S','SR', or 'RS'. R and S are single-stage filters while RS and SR are two-stage filters. By default set to 'RS'.\n",
    "    features_per_rep    : int, (maximum) number of features selected per representation. By deafault set to 500.\n",
    "    selection_per_rep   : int, (maximum) number of candidate features selected per representation. Only applied in two stages strategies (RS and SR). By deafault set to 2000.\n",
    "    nsax                : int, control the number of representations produced by sax transformation.\n",
    "    nsfa                : int, control the number of representations produced by sfa transformation.\n",
    "    custom_config       : dict, customized parameters for the symbolic transformation.\n",
    "    random_state        : set random seed for classifier. By default 'none'.\n",
    "    ts_norm             : time series normalisation (standardisation). By default set to 'True'.\n",
    "    '''\n",
    "\n",
    "starttime = timeit.default_timer()\n",
    "clf = mrsqm.MrSQMClassifier(random_state=42,nsax=0, nsfa=1, sfa_norm = 'False').fit(X_train,y_train)\n",
    "y_pred = clf.predict(X_test)\n",
    "print(metrics.accuracy_score(y_test, y_pred))\n",
    "print(\"Time to train and predict (sec):\", timeit.default_timer() - starttime)\n"
   ]
  }
 ],
 "metadata": {
  "kernelspec": {
   "display_name": "Python 3 (ipykernel)",
   "language": "python",
   "name": "python3"
  },
  "language_info": {
   "codemirror_mode": {
    "name": "ipython",
    "version": 3
   },
   "file_extension": ".py",
   "mimetype": "text/x-python",
   "name": "python",
   "nbconvert_exporter": "python",
   "pygments_lexer": "ipython3",
   "version": "3.7.11"
  }
 },
 "nbformat": 4,
 "nbformat_minor": 5
}
